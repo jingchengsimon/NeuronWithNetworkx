{
 "cells": [
  {
   "cell_type": "code",
   "execution_count": 8,
   "metadata": {},
   "outputs": [],
   "source": [
    "import numpy as np\n",
    "import numba \n",
    "from numba import jit\n",
    "# from numba import njit"
   ]
  },
  {
   "cell_type": "code",
   "execution_count": 15,
   "metadata": {},
   "outputs": [
    {
     "name": "stderr",
     "output_type": "stream",
     "text": [
      "C:\\Users\\Windows\\AppData\\Local\\Temp\\ipykernel_31232\\817575017.py:2: NumbaWarning: \u001b[1m\n",
      "Compilation is falling back to object mode WITH looplifting enabled because Function \"go_fast\" failed type inference due to: \u001b[1m\u001b[1mCannot unify array(int64, 2d, C) and array(float64, 2d, C) for '$56binary_add.2', defined at C:\\Users\\Windows\\AppData\\Local\\Temp\\ipykernel_31232\\817575017.py (8)\n",
      "\u001b[1m\n",
      "File \"..\\..\\..\\AppData\\Local\\Temp\\ipykernel_31232\\817575017.py\", line 8:\u001b[0m\n",
      "\u001b[1m<source missing, REPL/exec in use?>\u001b[0m\n",
      "\u001b[0m\n",
      "\u001b[0m\u001b[1mDuring: typing of intrinsic-call at C:\\Users\\Windows\\AppData\\Local\\Temp\\ipykernel_31232\\817575017.py (8)\u001b[0m\n",
      "\u001b[1m\n",
      "File \"..\\..\\..\\AppData\\Local\\Temp\\ipykernel_31232\\817575017.py\", line 8:\u001b[0m\n",
      "\u001b[1m<source missing, REPL/exec in use?>\u001b[0m\n",
      "\u001b[0m\n",
      "  @jit\n",
      "C:\\Users\\Windows\\AppData\\Local\\Temp\\ipykernel_31232\\817575017.py:2: NumbaWarning: \u001b[1m\n",
      "Compilation is falling back to object mode WITHOUT looplifting enabled because Function \"go_fast\" failed type inference due to: \u001b[1m\u001b[1mCannot determine Numba type of <class 'numba.core.dispatcher.LiftedLoop'>\u001b[0m\n",
      "\u001b[1m\n",
      "File \"..\\..\\..\\AppData\\Local\\Temp\\ipykernel_31232\\817575017.py\", line 6:\u001b[0m\n",
      "\u001b[1m<source missing, REPL/exec in use?>\u001b[0m\n",
      "\u001b[0m\u001b[0m\n",
      "  @jit\n",
      "c:\\Users\\Windows\\AppData\\Local\\Programs\\Python\\Python37\\lib\\site-packages\\numba\\core\\object_mode_passes.py:152: NumbaWarning: \u001b[1mFunction \"go_fast\" was compiled in object mode without forceobj=True, but has lifted loops.\n",
      "\u001b[1m\n",
      "File \"..\\..\\..\\AppData\\Local\\Temp\\ipykernel_31232\\817575017.py\", line 4:\u001b[0m\n",
      "\u001b[1m<source missing, REPL/exec in use?>\u001b[0m\n",
      "\u001b[0m\n",
      "  state.func_ir.loc))\n",
      "c:\\Users\\Windows\\AppData\\Local\\Programs\\Python\\Python37\\lib\\site-packages\\numba\\core\\object_mode_passes.py:162: NumbaDeprecationWarning: \u001b[1m\n",
      "Fall-back from the nopython compilation path to the object mode compilation path has been detected, this is deprecated behaviour.\n",
      "\n",
      "For more information visit https://numba.readthedocs.io/en/stable/reference/deprecation.html#deprecation-of-object-mode-fall-back-behaviour-when-using-jit\n",
      "\u001b[1m\n",
      "File \"..\\..\\..\\AppData\\Local\\Temp\\ipykernel_31232\\817575017.py\", line 4:\u001b[0m\n",
      "\u001b[1m<source missing, REPL/exec in use?>\u001b[0m\n",
      "\u001b[0m\n",
      "  state.func_ir.loc))\n"
     ]
    },
    {
     "name": "stdout",
     "output_type": "stream",
     "text": [
      "2.53 µs ± 8.23 ns per loop (mean ± std. dev. of 7 runs, 100000 loops each)\n"
     ]
    }
   ],
   "source": [
    "# 传入jit，numba装饰器中的一种\n",
    "@jit\n",
    "def go_fast(a): # 首次调用时，函数被编译为机器代码\n",
    "    trace = 0\n",
    "    # 假设输入变量是numpy数组\n",
    "    for i in range(a.shape[0]):   # Numba 擅长处理循环\n",
    "        trace += np.tanh(a[i, i])  # numba喜欢numpy函数\n",
    "    return a + trace # numba喜欢numpy广播\n",
    "\n",
    "# 因为函数要求传入的参数是nunpy数组\n",
    "x = np.arange(100).reshape(10, 10) \n",
    "# 执行函数\n",
    "\n",
    "%timeit go_fast(x)"
   ]
  },
  {
   "cell_type": "code",
   "execution_count": 14,
   "metadata": {},
   "outputs": [
    {
     "name": "stdout",
     "output_type": "stream",
     "text": [
      "18.4 µs ± 136 ns per loop (mean ± std. dev. of 7 runs, 100000 loops each)\n"
     ]
    }
   ],
   "source": [
    "def go_fast_(a): # 首次调用时，函数被编译为机器代码\n",
    "    trace = 0\n",
    "    # 假设输入变量是numpy数组\n",
    "    for i in range(a.shape[0]):   # Numba 擅长处理循环\n",
    "        trace += np.tanh(a[i, i])  # numba喜欢numpy函数\n",
    "    return a + trace # numba喜欢numpy广播\n",
    "\n",
    "%timeit go_fast_(x)\n"
   ]
  }
 ],
 "metadata": {
  "kernelspec": {
   "display_name": "Python 3",
   "language": "python",
   "name": "python3"
  },
  "language_info": {
   "codemirror_mode": {
    "name": "ipython",
    "version": 3
   },
   "file_extension": ".py",
   "mimetype": "text/x-python",
   "name": "python",
   "nbconvert_exporter": "python",
   "pygments_lexer": "ipython3",
   "version": "3.7.9"
  },
  "orig_nbformat": 4
 },
 "nbformat": 4,
 "nbformat_minor": 2
}
